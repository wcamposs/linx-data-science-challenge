{
 "cells": [
  {
   "cell_type": "code",
   "execution_count": 55,
   "metadata": {},
   "outputs": [],
   "source": [
    "import pandas as pd\n",
    "import json\n",
    "import matplotlib.pyplot as plt"
   ]
  },
  {
   "cell_type": "code",
   "execution_count": 56,
   "metadata": {},
   "outputs": [],
   "source": [
    "# Setting the filename\n",
    "\n",
    "filename = 'ecommerce-events.ndjson'"
   ]
  },
  {
   "cell_type": "code",
   "execution_count": 57,
   "metadata": {},
   "outputs": [],
   "source": [
    "#Importing dataset\n",
    "\n",
    "data = [json.loads(d) for d in open(filename).read().split('\\n')]\n",
    "df = pd.read_json(json.dumps(data))"
   ]
  },
  {
   "cell_type": "code",
   "execution_count": 59,
   "metadata": {},
   "outputs": [
    {
     "data": {
      "text/html": [
       "<div>\n",
       "<style scoped>\n",
       "    .dataframe tbody tr th:only-of-type {\n",
       "        vertical-align: middle;\n",
       "    }\n",
       "\n",
       "    .dataframe tbody tr th {\n",
       "        vertical-align: top;\n",
       "    }\n",
       "\n",
       "    .dataframe thead th {\n",
       "        text-align: right;\n",
       "    }\n",
       "</style>\n",
       "<table border=\"1\" class=\"dataframe\">\n",
       "  <thead>\n",
       "    <tr style=\"text-align: right;\">\n",
       "      <th></th>\n",
       "      <th>browserType</th>\n",
       "      <th>browserVersion</th>\n",
       "      <th>category</th>\n",
       "      <th>date</th>\n",
       "      <th>deviceType</th>\n",
       "      <th>eventType</th>\n",
       "      <th>order</th>\n",
       "      <th>orderItems</th>\n",
       "      <th>osType</th>\n",
       "      <th>osVersion</th>\n",
       "      <th>...</th>\n",
       "      <th>referrer</th>\n",
       "      <th>referrerType</th>\n",
       "      <th>searchItems</th>\n",
       "      <th>status</th>\n",
       "      <th>tags</th>\n",
       "      <th>url</th>\n",
       "      <th>utm_campaign</th>\n",
       "      <th>utm_medium</th>\n",
       "      <th>utm_source</th>\n",
       "      <th>visitor</th>\n",
       "    </tr>\n",
       "  </thead>\n",
       "  <tbody>\n",
       "    <tr>\n",
       "      <th>0</th>\n",
       "      <td>Firefox</td>\n",
       "      <td>52.0.0</td>\n",
       "      <td>271|697</td>\n",
       "      <td>2017-06-03 00:07:04</td>\n",
       "      <td>desktop</td>\n",
       "      <td>page</td>\n",
       "      <td>NaN</td>\n",
       "      <td>NaN</td>\n",
       "      <td>Windows</td>\n",
       "      <td>None</td>\n",
       "      <td>...</td>\n",
       "      <td>5af64abc7cb3e5a8be6d22c97331b9afcaad91c5</td>\n",
       "      <td>social</td>\n",
       "      <td>NaN</td>\n",
       "      <td>NaN</td>\n",
       "      <td>NaN</td>\n",
       "      <td>ccde1b63b365cad611f2d1a6fca8a15b0e71d6ef</td>\n",
       "      <td>Campaign_2</td>\n",
       "      <td>Medium_2</td>\n",
       "      <td>Partner_1</td>\n",
       "      <td>89206c00-3f26-11e7-9978-fdec7f5865bc</td>\n",
       "    </tr>\n",
       "    <tr>\n",
       "      <th>1</th>\n",
       "      <td>Other</td>\n",
       "      <td>0.0.0</td>\n",
       "      <td>None</td>\n",
       "      <td>2017-06-03 00:07:06</td>\n",
       "      <td>desktop</td>\n",
       "      <td>page</td>\n",
       "      <td>NaN</td>\n",
       "      <td>NaN</td>\n",
       "      <td>Other</td>\n",
       "      <td>None</td>\n",
       "      <td>...</td>\n",
       "      <td>None</td>\n",
       "      <td>direct</td>\n",
       "      <td>NaN</td>\n",
       "      <td>NaN</td>\n",
       "      <td>NaN</td>\n",
       "      <td>5c808dff012fcbe74dc2941a7664e357db367176</td>\n",
       "      <td>None</td>\n",
       "      <td>None</td>\n",
       "      <td>None</td>\n",
       "      <td>b96acfe0-4809-11e7-9b7d-e57b4710e964</td>\n",
       "    </tr>\n",
       "    <tr>\n",
       "      <th>2</th>\n",
       "      <td>Chrome Mobile</td>\n",
       "      <td>58.0.3029</td>\n",
       "      <td>None</td>\n",
       "      <td>2017-06-03 00:07:07</td>\n",
       "      <td>mobile</td>\n",
       "      <td>page</td>\n",
       "      <td>NaN</td>\n",
       "      <td>NaN</td>\n",
       "      <td>Android</td>\n",
       "      <td>5.1.1</td>\n",
       "      <td>...</td>\n",
       "      <td>2282902993188bb2b91ce4e931c6f7a4a946f725</td>\n",
       "      <td>None</td>\n",
       "      <td>NaN</td>\n",
       "      <td>NaN</td>\n",
       "      <td>NaN</td>\n",
       "      <td>db2c1fd6668d7432a3e298b40f7b8758cc3e8447</td>\n",
       "      <td>None</td>\n",
       "      <td>None</td>\n",
       "      <td>None</td>\n",
       "      <td>70b09b50-4808-11e7-b949-31f33cf8565d</td>\n",
       "    </tr>\n",
       "    <tr>\n",
       "      <th>3</th>\n",
       "      <td>Chrome</td>\n",
       "      <td>50.0.2661</td>\n",
       "      <td>594|541|319</td>\n",
       "      <td>2017-06-03 00:07:24</td>\n",
       "      <td>desktop</td>\n",
       "      <td>page</td>\n",
       "      <td>NaN</td>\n",
       "      <td>NaN</td>\n",
       "      <td>Windows</td>\n",
       "      <td>7</td>\n",
       "      <td>...</td>\n",
       "      <td>e4684c143dfb4f377940afd7a228795b805e554e</td>\n",
       "      <td>None</td>\n",
       "      <td>NaN</td>\n",
       "      <td>NaN</td>\n",
       "      <td>NaN</td>\n",
       "      <td>aefa097f4f0deba18e6db60790704941b559034d</td>\n",
       "      <td>None</td>\n",
       "      <td>None</td>\n",
       "      <td>None</td>\n",
       "      <td>ff14b670-4776-11e7-8c72-5f5d3fe5c610</td>\n",
       "    </tr>\n",
       "    <tr>\n",
       "      <th>4</th>\n",
       "      <td>Chrome</td>\n",
       "      <td>55.0.2883</td>\n",
       "      <td>558|648</td>\n",
       "      <td>2017-06-03 00:07:38</td>\n",
       "      <td>desktop</td>\n",
       "      <td>page</td>\n",
       "      <td>NaN</td>\n",
       "      <td>NaN</td>\n",
       "      <td>Windows</td>\n",
       "      <td>None</td>\n",
       "      <td>...</td>\n",
       "      <td>3385b88a74f4bc41a423e47a8b34e188ba8c3ea8</td>\n",
       "      <td>None</td>\n",
       "      <td>NaN</td>\n",
       "      <td>NaN</td>\n",
       "      <td>NaN</td>\n",
       "      <td>131365d819084be07328b1cf624c1214c8e5faeb</td>\n",
       "      <td>None</td>\n",
       "      <td>None</td>\n",
       "      <td>None</td>\n",
       "      <td>fad427f0-d767-11e6-aea4-61a60e8da6e5</td>\n",
       "    </tr>\n",
       "  </tbody>\n",
       "</table>\n",
       "<p>5 rows × 24 columns</p>\n",
       "</div>"
      ],
      "text/plain": [
       "     browserType browserVersion     category                date deviceType  \\\n",
       "0        Firefox         52.0.0      271|697 2017-06-03 00:07:04    desktop   \n",
       "1          Other          0.0.0         None 2017-06-03 00:07:06    desktop   \n",
       "2  Chrome Mobile      58.0.3029         None 2017-06-03 00:07:07     mobile   \n",
       "3         Chrome      50.0.2661  594|541|319 2017-06-03 00:07:24    desktop   \n",
       "4         Chrome      55.0.2883      558|648 2017-06-03 00:07:38    desktop   \n",
       "\n",
       "  eventType  order orderItems   osType osVersion  \\\n",
       "0      page    NaN        NaN  Windows      None   \n",
       "1      page    NaN        NaN    Other      None   \n",
       "2      page    NaN        NaN  Android     5.1.1   \n",
       "3      page    NaN        NaN  Windows         7   \n",
       "4      page    NaN        NaN  Windows      None   \n",
       "\n",
       "                   ...                   \\\n",
       "0                  ...                    \n",
       "1                  ...                    \n",
       "2                  ...                    \n",
       "3                  ...                    \n",
       "4                  ...                    \n",
       "\n",
       "                                   referrer  referrerType  searchItems status  \\\n",
       "0  5af64abc7cb3e5a8be6d22c97331b9afcaad91c5        social          NaN    NaN   \n",
       "1                                      None        direct          NaN    NaN   \n",
       "2  2282902993188bb2b91ce4e931c6f7a4a946f725          None          NaN    NaN   \n",
       "3  e4684c143dfb4f377940afd7a228795b805e554e          None          NaN    NaN   \n",
       "4  3385b88a74f4bc41a423e47a8b34e188ba8c3ea8          None          NaN    NaN   \n",
       "\n",
       "  tags                                       url utm_campaign utm_medium  \\\n",
       "0  NaN  ccde1b63b365cad611f2d1a6fca8a15b0e71d6ef   Campaign_2   Medium_2   \n",
       "1  NaN  5c808dff012fcbe74dc2941a7664e357db367176         None       None   \n",
       "2  NaN  db2c1fd6668d7432a3e298b40f7b8758cc3e8447         None       None   \n",
       "3  NaN  aefa097f4f0deba18e6db60790704941b559034d         None       None   \n",
       "4  NaN  131365d819084be07328b1cf624c1214c8e5faeb         None       None   \n",
       "\n",
       "  utm_source                               visitor  \n",
       "0  Partner_1  89206c00-3f26-11e7-9978-fdec7f5865bc  \n",
       "1       None  b96acfe0-4809-11e7-9b7d-e57b4710e964  \n",
       "2       None  70b09b50-4808-11e7-b949-31f33cf8565d  \n",
       "3       None  ff14b670-4776-11e7-8c72-5f5d3fe5c610  \n",
       "4       None  fad427f0-d767-11e6-aea4-61a60e8da6e5  \n",
       "\n",
       "[5 rows x 24 columns]"
      ]
     },
     "execution_count": 59,
     "metadata": {},
     "output_type": "execute_result"
    }
   ],
   "source": [
    "#viewing the 5 first indexes of the dataset\n",
    "\n",
    "df.head()"
   ]
  },
  {
   "cell_type": "code",
   "execution_count": 60,
   "metadata": {},
   "outputs": [],
   "source": [
    "# Dropping unused columns\n",
    "\n",
    "df.drop(['browserType', 'browserVersion', 'osType', 'osVersion'], axis=1, inplace=True)\n"
   ]
  },
  {
   "cell_type": "code",
   "execution_count": 61,
   "metadata": {},
   "outputs": [
    {
     "data": {
      "text/html": [
       "<div>\n",
       "<style scoped>\n",
       "    .dataframe tbody tr th:only-of-type {\n",
       "        vertical-align: middle;\n",
       "    }\n",
       "\n",
       "    .dataframe tbody tr th {\n",
       "        vertical-align: top;\n",
       "    }\n",
       "\n",
       "    .dataframe thead th {\n",
       "        text-align: right;\n",
       "    }\n",
       "</style>\n",
       "<table border=\"1\" class=\"dataframe\">\n",
       "  <thead>\n",
       "    <tr style=\"text-align: right;\">\n",
       "      <th></th>\n",
       "      <th>category</th>\n",
       "      <th>date</th>\n",
       "      <th>deviceType</th>\n",
       "      <th>eventType</th>\n",
       "      <th>order</th>\n",
       "      <th>orderItems</th>\n",
       "      <th>pageType</th>\n",
       "      <th>price</th>\n",
       "      <th>product</th>\n",
       "      <th>query</th>\n",
       "      <th>referrer</th>\n",
       "      <th>referrerType</th>\n",
       "      <th>searchItems</th>\n",
       "      <th>status</th>\n",
       "      <th>tags</th>\n",
       "      <th>url</th>\n",
       "      <th>utm_campaign</th>\n",
       "      <th>utm_medium</th>\n",
       "      <th>utm_source</th>\n",
       "      <th>visitor</th>\n",
       "    </tr>\n",
       "  </thead>\n",
       "  <tbody>\n",
       "    <tr>\n",
       "      <th>0</th>\n",
       "      <td>271|697</td>\n",
       "      <td>2017-06-03 00:07:04</td>\n",
       "      <td>desktop</td>\n",
       "      <td>page</td>\n",
       "      <td>NaN</td>\n",
       "      <td>NaN</td>\n",
       "      <td>product</td>\n",
       "      <td>NaN</td>\n",
       "      <td>NaN</td>\n",
       "      <td>NaN</td>\n",
       "      <td>5af64abc7cb3e5a8be6d22c97331b9afcaad91c5</td>\n",
       "      <td>social</td>\n",
       "      <td>NaN</td>\n",
       "      <td>NaN</td>\n",
       "      <td>NaN</td>\n",
       "      <td>ccde1b63b365cad611f2d1a6fca8a15b0e71d6ef</td>\n",
       "      <td>Campaign_2</td>\n",
       "      <td>Medium_2</td>\n",
       "      <td>Partner_1</td>\n",
       "      <td>89206c00-3f26-11e7-9978-fdec7f5865bc</td>\n",
       "    </tr>\n",
       "    <tr>\n",
       "      <th>1</th>\n",
       "      <td>None</td>\n",
       "      <td>2017-06-03 00:07:06</td>\n",
       "      <td>desktop</td>\n",
       "      <td>page</td>\n",
       "      <td>NaN</td>\n",
       "      <td>NaN</td>\n",
       "      <td>home</td>\n",
       "      <td>NaN</td>\n",
       "      <td>NaN</td>\n",
       "      <td>NaN</td>\n",
       "      <td>None</td>\n",
       "      <td>direct</td>\n",
       "      <td>NaN</td>\n",
       "      <td>NaN</td>\n",
       "      <td>NaN</td>\n",
       "      <td>5c808dff012fcbe74dc2941a7664e357db367176</td>\n",
       "      <td>None</td>\n",
       "      <td>None</td>\n",
       "      <td>None</td>\n",
       "      <td>b96acfe0-4809-11e7-9b7d-e57b4710e964</td>\n",
       "    </tr>\n",
       "    <tr>\n",
       "      <th>2</th>\n",
       "      <td>None</td>\n",
       "      <td>2017-06-03 00:07:07</td>\n",
       "      <td>mobile</td>\n",
       "      <td>page</td>\n",
       "      <td>NaN</td>\n",
       "      <td>NaN</td>\n",
       "      <td>subcategory</td>\n",
       "      <td>NaN</td>\n",
       "      <td>NaN</td>\n",
       "      <td>NaN</td>\n",
       "      <td>2282902993188bb2b91ce4e931c6f7a4a946f725</td>\n",
       "      <td>None</td>\n",
       "      <td>NaN</td>\n",
       "      <td>NaN</td>\n",
       "      <td>NaN</td>\n",
       "      <td>db2c1fd6668d7432a3e298b40f7b8758cc3e8447</td>\n",
       "      <td>None</td>\n",
       "      <td>None</td>\n",
       "      <td>None</td>\n",
       "      <td>70b09b50-4808-11e7-b949-31f33cf8565d</td>\n",
       "    </tr>\n",
       "    <tr>\n",
       "      <th>3</th>\n",
       "      <td>594|541|319</td>\n",
       "      <td>2017-06-03 00:07:24</td>\n",
       "      <td>desktop</td>\n",
       "      <td>page</td>\n",
       "      <td>NaN</td>\n",
       "      <td>NaN</td>\n",
       "      <td>product</td>\n",
       "      <td>NaN</td>\n",
       "      <td>NaN</td>\n",
       "      <td>NaN</td>\n",
       "      <td>e4684c143dfb4f377940afd7a228795b805e554e</td>\n",
       "      <td>None</td>\n",
       "      <td>NaN</td>\n",
       "      <td>NaN</td>\n",
       "      <td>NaN</td>\n",
       "      <td>aefa097f4f0deba18e6db60790704941b559034d</td>\n",
       "      <td>None</td>\n",
       "      <td>None</td>\n",
       "      <td>None</td>\n",
       "      <td>ff14b670-4776-11e7-8c72-5f5d3fe5c610</td>\n",
       "    </tr>\n",
       "    <tr>\n",
       "      <th>4</th>\n",
       "      <td>558|648</td>\n",
       "      <td>2017-06-03 00:07:38</td>\n",
       "      <td>desktop</td>\n",
       "      <td>page</td>\n",
       "      <td>NaN</td>\n",
       "      <td>NaN</td>\n",
       "      <td>subcategory</td>\n",
       "      <td>NaN</td>\n",
       "      <td>NaN</td>\n",
       "      <td>NaN</td>\n",
       "      <td>3385b88a74f4bc41a423e47a8b34e188ba8c3ea8</td>\n",
       "      <td>None</td>\n",
       "      <td>NaN</td>\n",
       "      <td>NaN</td>\n",
       "      <td>NaN</td>\n",
       "      <td>131365d819084be07328b1cf624c1214c8e5faeb</td>\n",
       "      <td>None</td>\n",
       "      <td>None</td>\n",
       "      <td>None</td>\n",
       "      <td>fad427f0-d767-11e6-aea4-61a60e8da6e5</td>\n",
       "    </tr>\n",
       "  </tbody>\n",
       "</table>\n",
       "</div>"
      ],
      "text/plain": [
       "      category                date deviceType eventType  order orderItems  \\\n",
       "0      271|697 2017-06-03 00:07:04    desktop      page    NaN        NaN   \n",
       "1         None 2017-06-03 00:07:06    desktop      page    NaN        NaN   \n",
       "2         None 2017-06-03 00:07:07     mobile      page    NaN        NaN   \n",
       "3  594|541|319 2017-06-03 00:07:24    desktop      page    NaN        NaN   \n",
       "4      558|648 2017-06-03 00:07:38    desktop      page    NaN        NaN   \n",
       "\n",
       "      pageType  price  product query  \\\n",
       "0      product    NaN      NaN   NaN   \n",
       "1         home    NaN      NaN   NaN   \n",
       "2  subcategory    NaN      NaN   NaN   \n",
       "3      product    NaN      NaN   NaN   \n",
       "4  subcategory    NaN      NaN   NaN   \n",
       "\n",
       "                                   referrer referrerType searchItems status  \\\n",
       "0  5af64abc7cb3e5a8be6d22c97331b9afcaad91c5       social         NaN    NaN   \n",
       "1                                      None       direct         NaN    NaN   \n",
       "2  2282902993188bb2b91ce4e931c6f7a4a946f725         None         NaN    NaN   \n",
       "3  e4684c143dfb4f377940afd7a228795b805e554e         None         NaN    NaN   \n",
       "4  3385b88a74f4bc41a423e47a8b34e188ba8c3ea8         None         NaN    NaN   \n",
       "\n",
       "  tags                                       url utm_campaign utm_medium  \\\n",
       "0  NaN  ccde1b63b365cad611f2d1a6fca8a15b0e71d6ef   Campaign_2   Medium_2   \n",
       "1  NaN  5c808dff012fcbe74dc2941a7664e357db367176         None       None   \n",
       "2  NaN  db2c1fd6668d7432a3e298b40f7b8758cc3e8447         None       None   \n",
       "3  NaN  aefa097f4f0deba18e6db60790704941b559034d         None       None   \n",
       "4  NaN  131365d819084be07328b1cf624c1214c8e5faeb         None       None   \n",
       "\n",
       "  utm_source                               visitor  \n",
       "0  Partner_1  89206c00-3f26-11e7-9978-fdec7f5865bc  \n",
       "1       None  b96acfe0-4809-11e7-9b7d-e57b4710e964  \n",
       "2       None  70b09b50-4808-11e7-b949-31f33cf8565d  \n",
       "3       None  ff14b670-4776-11e7-8c72-5f5d3fe5c610  \n",
       "4       None  fad427f0-d767-11e6-aea4-61a60e8da6e5  "
      ]
     },
     "execution_count": 61,
     "metadata": {},
     "output_type": "execute_result"
    }
   ],
   "source": [
    "df.head()"
   ]
  },
  {
   "cell_type": "markdown",
   "metadata": {},
   "source": [
    "### 1 - What was the total revenue?\n",
    "\n",
    "To get the revenue amount, I need to access the dict into 'orderItems' column, multiply the\n",
    "items 'price' and 'quantity' and sum the 'subtotal'.\n",
    "\n",
    "To access the dict, I read row by row of the dict, and append the values 'product', 'price', \n",
    "'quantity' to an order list. Creating an 'subtotal' field, that consists in each\n",
    "item price * item quantity"
   ]
  },
  {
   "cell_type": "code",
   "execution_count": 7,
   "metadata": {},
   "outputs": [],
   "source": [
    "orders = []\n",
    "for d in df.to_dict(orient='records'):\n",
    "    if 'orderItems' in d.keys() and isinstance(d['orderItems'], list):\n",
    "        for item in d['orderItems']:\n",
    "            orders.append({\n",
    "                'product': item['product'],\n",
    "                'price': item['price'],\n",
    "                'quantity': item['quantity'],\n",
    "                'subtotal': item['price'] * item['quantity'],\n",
    "            })"
   ]
  },
  {
   "cell_type": "code",
   "execution_count": 8,
   "metadata": {},
   "outputs": [],
   "source": [
    "# Adding orders to dataframe 'df_items'\n",
    "\n",
    "df_items = pd.DataFrame.from_records(orders)"
   ]
  },
  {
   "cell_type": "code",
   "execution_count": 9,
   "metadata": {},
   "outputs": [
    {
     "data": {
      "text/html": [
       "<div>\n",
       "<style scoped>\n",
       "    .dataframe tbody tr th:only-of-type {\n",
       "        vertical-align: middle;\n",
       "    }\n",
       "\n",
       "    .dataframe tbody tr th {\n",
       "        vertical-align: top;\n",
       "    }\n",
       "\n",
       "    .dataframe thead th {\n",
       "        text-align: right;\n",
       "    }\n",
       "</style>\n",
       "<table border=\"1\" class=\"dataframe\">\n",
       "  <thead>\n",
       "    <tr style=\"text-align: right;\">\n",
       "      <th></th>\n",
       "      <th>price</th>\n",
       "      <th>product</th>\n",
       "      <th>quantity</th>\n",
       "      <th>subtotal</th>\n",
       "    </tr>\n",
       "  </thead>\n",
       "  <tbody>\n",
       "    <tr>\n",
       "      <th>0</th>\n",
       "      <td>467.91</td>\n",
       "      <td>6461</td>\n",
       "      <td>2.0</td>\n",
       "      <td>935.82</td>\n",
       "    </tr>\n",
       "    <tr>\n",
       "      <th>1</th>\n",
       "      <td>30.27</td>\n",
       "      <td>19168</td>\n",
       "      <td>10.0</td>\n",
       "      <td>302.70</td>\n",
       "    </tr>\n",
       "    <tr>\n",
       "      <th>2</th>\n",
       "      <td>30.87</td>\n",
       "      <td>18143</td>\n",
       "      <td>22.0</td>\n",
       "      <td>679.14</td>\n",
       "    </tr>\n",
       "    <tr>\n",
       "      <th>3</th>\n",
       "      <td>59.67</td>\n",
       "      <td>19925</td>\n",
       "      <td>2.0</td>\n",
       "      <td>119.34</td>\n",
       "    </tr>\n",
       "    <tr>\n",
       "      <th>4</th>\n",
       "      <td>129.90</td>\n",
       "      <td>38</td>\n",
       "      <td>1.0</td>\n",
       "      <td>129.90</td>\n",
       "    </tr>\n",
       "  </tbody>\n",
       "</table>\n",
       "</div>"
      ],
      "text/plain": [
       "    price  product  quantity  subtotal\n",
       "0  467.91     6461       2.0    935.82\n",
       "1   30.27    19168      10.0    302.70\n",
       "2   30.87    18143      22.0    679.14\n",
       "3   59.67    19925       2.0    119.34\n",
       "4  129.90       38       1.0    129.90"
      ]
     },
     "execution_count": 9,
     "metadata": {},
     "output_type": "execute_result"
    }
   ],
   "source": [
    "# Viewing the five first indexes of df_items\n",
    "\n",
    "df_items.head()"
   ]
  },
  {
   "cell_type": "code",
   "execution_count": 11,
   "metadata": {},
   "outputs": [
    {
     "name": "stdout",
     "output_type": "stream",
     "text": [
      "The total revenue value is: 212022.27\n"
     ]
    }
   ],
   "source": [
    "# Discovering the total revenue value\n",
    "\n",
    "revenue = df_items['subtotal'].sum()\n",
    "print('The total revenue value is: {:.2f}'.format(revenue))"
   ]
  },
  {
   "cell_type": "code",
   "execution_count": 12,
   "metadata": {},
   "outputs": [
    {
     "name": "stdout",
     "output_type": "stream",
     "text": [
      "4209 items sold.\n"
     ]
    }
   ],
   "source": [
    "# Discovering the amount of sold items (extra)\n",
    "\n",
    "items_sold = df_items['quantity'].sum()\n",
    "print('{:.0f} items sold.'.format(items_sold))"
   ]
  },
  {
   "cell_type": "markdown",
   "metadata": {},
   "source": [
    "### 2 - What percentage of visitors used a mobile device?\n",
    "\n",
    "To solve the second question, I need to discover the values of: total visitors, \n",
    "mobile_visitors and apply the formula: (mobile visitors / total visitors) * 100"
   ]
  },
  {
   "cell_type": "code",
   "execution_count": 16,
   "metadata": {},
   "outputs": [
    {
     "name": "stdout",
     "output_type": "stream",
     "text": [
      "692055 total visitors.\n"
     ]
    }
   ],
   "source": [
    "# Discovering total amount of visitors (any device type)\n",
    "\n",
    "total_visitors = df['deviceType'].count()\n",
    "print('{} total visitors.'.format(total_visitors))"
   ]
  },
  {
   "cell_type": "code",
   "execution_count": 17,
   "metadata": {},
   "outputs": [
    {
     "name": "stdout",
     "output_type": "stream",
     "text": [
      "287358 mobile visitors.\n"
     ]
    }
   ],
   "source": [
    "# Discovering amount of mobile visitors\n",
    "\n",
    "mobile_visitors = df['deviceType'].str.count('mobile').sum()\n",
    "print('{} mobile visitors.'.format(mobile_visitors))"
   ]
  },
  {
   "cell_type": "code",
   "execution_count": 19,
   "metadata": {},
   "outputs": [
    {
     "name": "stdout",
     "output_type": "stream",
     "text": [
      "41.52% of the visitors used mobile devices.\n"
     ]
    }
   ],
   "source": [
    "# Discovering the percentage of mobile visitors\n",
    "\n",
    "mobile_visitors_percentage = (mobile_visitors / total_visitors) * 100\n",
    "print('{:.2f}% of the visitors used mobile devices.'.format(mobile_visitors_percentage))"
   ]
  },
  {
   "cell_type": "code",
   "execution_count": 20,
   "metadata": {},
   "outputs": [
    {
     "name": "stdout",
     "output_type": "stream",
     "text": [
      "404697 non-mobile visitors\n",
      "58.48% of the visitors used non-mobile devices.\n"
     ]
    }
   ],
   "source": [
    "# Discovering amount of 'non-mobile' visitors\n",
    "\n",
    "non_mobile_visitors = total_visitors - mobile_visitors\n",
    "print('{} non-mobile visitors'.format(non_mobile_visitors))\n",
    "\n",
    "# Discovering her percentage\n",
    "\n",
    "non_mobile_percentage = (non_mobile_visitors / total_visitors) * 100\n",
    "print('{:.2f}% of the visitors used non-mobile devices.'.format(non_mobile_percentage))"
   ]
  },
  {
   "cell_type": "code",
   "execution_count": 22,
   "metadata": {},
   "outputs": [
    {
     "data": {
      "image/png": "[encoded data removed]",
      "text/plain": [
       "<Figure size 432x288 with 1 Axes>"
      ]
     },
     "metadata": {},
     "output_type": "display_data"
    }
   ],
   "source": [
    "# Visualizing - Pie chart of mobile visitors and non-mobile visitors\n",
    "\n",
    "labels = ['Mobile visitors', 'Non-mobile visitors']\n",
    "sizes = [mobile_visitors_percentage, non_mobile_percentage]\n",
    "\n",
    "# slicing the 'Mobile Visitors'\n",
    "explode = (0.1, 0)\n",
    "\n",
    "#adding colors\n",
    "'''PS: I decided to use the Linx colors to specify the target data using the secondary color \n",
    "(orange) for a better view of the data, and the 'non-target' data using the primary color (purple).'''\n",
    "colors = ['#ff9200', '#6e4b8c']\n",
    "\n",
    "fig1, ax1 = plt.subplots()\n",
    "ax1.pie(sizes, explode=explode, labels=labels, colors=colors, autopct=' %1.2f%%', shadow=True, startangle=90)\n",
    "\n",
    "# Equal aspect ration ensures that pie is drawn as a circle\n",
    "ax1.axis('equal')\n",
    "\n",
    "plt.tight_layout()\n",
    "plt.show()"
   ]
  },
  {
   "cell_type": "markdown",
   "metadata": {},
   "source": [
    "Using the chart above, it is possible to state that only 41.52% of site visitors used mobile devices, while 58,58% of site visitors used non-mobile devices (example: desktop devices)."
   ]
  },
  {
   "cell_type": "markdown",
   "metadata": {},
   "source": [
    "### 3 - What search query had the highest click-through rate?\n",
    "\n",
    "Among queries with at least 15 instances\n",
    "\n",
    "It's considered a click if the target page is a product page and its product id was in the list\n",
    "of search results."
   ]
  },
  {
   "cell_type": "code",
   "execution_count": 44,
   "metadata": {},
   "outputs": [],
   "source": [
    "# Searching event types named as 'search' and appending in a list named 'searches'\n",
    "\n",
    "searches = []\n",
    "\n",
    "for d in data:   \n",
    "    if d['eventType'] == 'search':\n",
    "        searches.append(d)"
   ]
  },
  {
   "cell_type": "code",
   "execution_count": 45,
   "metadata": {},
   "outputs": [
    {
     "name": "stdout",
     "output_type": "stream",
     "text": [
      "Searches    : 57737\n"
     ]
    }
   ],
   "source": [
    "# Printing the total results for 'search'\n",
    "\n",
    "print(f'Searches    : {len(searches)}')"
   ]
  },
  {
   "cell_type": "code",
   "execution_count": 47,
   "metadata": {},
   "outputs": [
    {
     "name": "stdout",
     "output_type": "stream",
     "text": [
      "hiper metros standart: 1693\n",
      "amendola: 1130\n",
      "pendente sala: 1036\n",
      "esmalte barra 1,50m 4,0mm adesivo: 940\n",
      "tartaruga pisos: 699\n",
      "branco tinta refrataria iluminação 6l fechadura: 670\n",
      "bloqueador - 804991: 633\n",
      "bicama base phd48250r revestimento: 597\n",
      "rodapé: 589\n",
      "1149660 piso 1173952: 500\n"
     ]
    }
   ],
   "source": [
    "'''Initially i create a dictionary named 'query_results', then I create a loop that reads \n",
    "row by row from the 'searches' list, defining some parameters to ignore data, like: \n",
    "if the data of 'searchItems' are not included search data, if they do not match lists, and if \n",
    "this data does not match the search results, to ignore them. Finally, the valid data is \n",
    "incremented in each key and position of the dict.'''\n",
    "\n",
    "query_results = {}\n",
    "for d in searches:\n",
    "    if 'searchItems' not in d.keys():\n",
    "        continue\n",
    "\n",
    "    if not isinstance(d['searchItems'], list):\n",
    "        continue\n",
    "\n",
    "    if d['query'] not in query_results:\n",
    "        query_results[d['query']] = 0\n",
    "\n",
    "    query_results[d['query']] += 1\n",
    "\n",
    "'''I create a list named 'aggregated_data' and for any data in 'queary_results', I sort\n",
    "the items and append to 'aggregated_data' list, and for any data in this list, I print the\n",
    "query result (query name) and their hits'''    \n",
    "\n",
    "aggregated_data = []\n",
    "\n",
    "for key, value in sorted(query_results.items(), key=lambda item: (item[1], item[0]))[-10:]:\n",
    "    aggregated_data.append((key, value))\n",
    "\n",
    "# Reversing the list to display the items in descending order\n",
    "aggregated_data = reversed(aggregated_data)\n",
    "\n",
    "for data in aggregated_data:\n",
    "    query, hits = data\n",
    "    print(f'{query}: {hits}')"
   ]
  },
  {
   "cell_type": "markdown",
   "metadata": {},
   "source": [
    "### List Analysis\n",
    "\n",
    "The result contains the most searched terms, rhere 'hiper metros standart' is the most reached \n",
    "term, with 1.693 searches.\n",
    "\n",
    "Although a good part of the search terms present specifications. the last term attracts a lot of\n",
    "attention, requiring a more accurate analysis to investigate if this is in fact a specification of\n",
    "the search or if there is any factor that causes frequent typing errors during the serach by this \n",
    "term."
   ]
  },
  {
   "cell_type": "markdown",
   "metadata": {},
   "source": [
    "### 4 - When the site is most busy?\n",
    "\n",
    "Do both what part of the day and day of the week."
   ]
  },
  {
   "cell_type": "markdown",
   "metadata": {},
   "source": [
    "To solve this question, I convert the serie 'date' to datetime format, create 2 series, named\n",
    "'weekday' and 'hour' and order by index, sorting by index (being the days of the week of 0 to 7 \n",
    "and the hours of 0 to 23). \n",
    "\n",
    "Then, I plot the first line graph for the part of the day and the second line graph for the day of the week."
   ]
  },
  {
   "cell_type": "code",
   "execution_count": 48,
   "metadata": {},
   "outputs": [],
   "source": [
    "# Converting to datetime format\n",
    "\n",
    "df['date'] = pd.to_datetime(df['date'])"
   ]
  },
  {
   "cell_type": "code",
   "execution_count": 49,
   "metadata": {},
   "outputs": [],
   "source": [
    "# Creating a 'weekday' serie and sorting by index (where 0 is de sunday and 6 is saturday)\n",
    "\n",
    "df['weekday'] = pd.DatetimeIndex(df['date']).weekday"
   ]
  },
  {
   "cell_type": "code",
   "execution_count": 50,
   "metadata": {},
   "outputs": [],
   "source": [
    "# Creating a 'hour' serie and sorting by index (0 to 23)\n",
    "\n",
    "df['hour'] = pd.DatetimeIndex(df['date']).hour"
   ]
  },
  {
   "cell_type": "code",
   "execution_count": 51,
   "metadata": {},
   "outputs": [
    {
     "data": {
      "text/plain": [
       "<matplotlib.axes._subplots.AxesSubplot at 0x7ff9cc6b8160>"
      ]
     },
     "execution_count": 51,
     "metadata": {},
     "output_type": "execute_result"
    },
    {
     "data": {
      "image/png": "[encoded data removed]",
      "text/plain": [
       "<Figure size 432x288 with 1 Axes>"
      ]
     },
     "metadata": {},
     "output_type": "display_data"
    }
   ],
   "source": [
    "# Visualizing - Ploting number of clicks by hour of the day\n",
    "\n",
    "df.groupby(df['hour']).size().plot()"
   ]
  },
  {
   "cell_type": "markdown",
   "metadata": {},
   "source": [
    "### Graph Analysis - Hour of the Day\n",
    "\n",
    "Initially the site drops from approximately 18 thousand clicks to something close to 2 thousand clicks between midnight and 5am. Between 5am and 11am, the site reaches a peak of approximately 46 thousand clicks, falling for 40 thousand clicks between 11 am and 1 pm (lunch time), then hits increase again to approximately 46 thousand clicks between the 2pm and 4pm, falling to approximately 40 thousand clicks. Its highest access spike is around six o'clock in the afternoon, where the site reaches a click-through rate of approximately 50,000 clicks, which decay at night."
   ]
  },
  {
   "cell_type": "code",
   "execution_count": 52,
   "metadata": {},
   "outputs": [
    {
     "data": {
      "text/plain": [
       "<matplotlib.axes._subplots.AxesSubplot at 0x7ffaf1505908>"
      ]
     },
     "execution_count": 52,
     "metadata": {},
     "output_type": "execute_result"
    },
    {
     "data": {
      "image/png": "[encoded data removed]",
      "text/plain": [
       "<Figure size 432x288 with 1 Axes>"
      ]
     },
     "metadata": {},
     "output_type": "display_data"
    }
   ],
   "source": [
    "# Visualizing - Ploting number of clicks by day of the week\n",
    "\n",
    "df.groupby(df['weekday']).size().plot()"
   ]
  },
  {
   "cell_type": "markdown",
   "metadata": {},
   "source": [
    "### Graph Analysis - Day of the Week\n",
    "\n",
    "The highest click-through rate on the site occurs on Sunday, with approximately 12.300 clicks, between Sunday and Monday the click-through rate drops to approximately 10.600 clicks. Between Monday and Wednesday, the click-through rate fall to approximately 10 thousand clicks, returning to approximately 11 thousand clicks between Wednesday and Thursday.\n",
    "\n",
    "The lowest clickthrough rate occurs between Thursday and Friday, where the value drops dramatically to approximately 7,200 clicks, increasing to around 8 thousand clicks between Friday and Saturday."
   ]
  },
  {
   "cell_type": "markdown",
   "metadata": {},
   "source": [
    "### 5 - What is the share of revenue among categories brought by Campaign_2?\n",
    "\n",
    "Use last touch attribution"
   ]
  },
  {
   "cell_type": "markdown",
   "metadata": {},
   "source": [
    "Initially, I decided to check how many events occur within 'Campaign 2', so that I could have\n",
    "a sense of the types of events that occur and their respective quantities."
   ]
  },
  {
   "cell_type": "code",
   "execution_count": 69,
   "metadata": {},
   "outputs": [
    {
     "name": "stdout",
     "output_type": "stream",
     "text": [
      "{'Campaign_2': 22670} {'Campaign_2_page': 12156, 'Campaign_2_product': 10514}\n"
     ]
    }
   ],
   "source": [
    "# Creating dicts to count events\n",
    "campaigns = {}\n",
    "event_types = {}\n",
    "\n",
    "# For any 'Campaign_2' data, count the Campaign_2 events\n",
    "for d in data:\n",
    "    if d['utm_campaign'] == 'Campaign_2' :\n",
    "        if d['utm_campaign'] not in campaigns.keys():\n",
    "            campaigns[d['utm_campaign']] = 0\n",
    "        if f'{d[\"utm_campaign\"]}_{d[\"eventType\"]}' not in event_types.keys():\n",
    "            event_types[f'{d[\"utm_campaign\"]}_{d[\"eventType\"]}'] = 0\n",
    "        campaigns[d['utm_campaign']] += 1\n",
    "        event_types[f'{d[\"utm_campaign\"]}_{d[\"eventType\"]}'] += 1\n",
    "\n",
    "# Printing the results, where the event types are contained on campaign 2\n",
    "print(campaigns, event_types)"
   ]
  },
  {
   "cell_type": "markdown",
   "metadata": {},
   "source": [
    "By checking the events that occurred in 'Campaign 2', I noticed that no transaction types, or purchase confirmation, were only listed page visits that led to some product (not ensuring \n",
    "that the visit was converted into a sale).\n",
    "\n",
    "So I decided to use the same code to see if it was the same in other campaigns, and when checking the occurrences in 'Campaign 1', it also showed visits to product pages, searches and 41 transactions."
   ]
  },
  {
   "cell_type": "code",
   "execution_count": 70,
   "metadata": {},
   "outputs": [
    {
     "name": "stdout",
     "output_type": "stream",
     "text": [
      "{'Campaign_1': 24601} {'Campaign_1_page': 17992, 'Campaign_1_product': 3974, 'Campaign_1_search': 2594, 'Campaign_1_transaction': 41}\n"
     ]
    }
   ],
   "source": [
    "# Creating dicts to count events\n",
    "campaigns = {}\n",
    "event_types = {}\n",
    "\n",
    "# For any 'Campaign_1' data, count the Campaign_1 events\n",
    "for d in data:\n",
    "    if d['utm_campaign'] == 'Campaign_1' :\n",
    "        if d['utm_campaign'] not in campaigns.keys():\n",
    "            campaigns[d['utm_campaign']] = 0\n",
    "        if f'{d[\"utm_campaign\"]}_{d[\"eventType\"]}' not in event_types.keys():\n",
    "            event_types[f'{d[\"utm_campaign\"]}_{d[\"eventType\"]}'] = 0\n",
    "        campaigns[d['utm_campaign']] += 1\n",
    "        event_types[f'{d[\"utm_campaign\"]}_{d[\"eventType\"]}'] += 1\n",
    "\n",
    "# Printing the results, where the event types are contained on campaign 1\n",
    "print(campaigns, event_types)"
   ]
  },
  {
   "cell_type": "markdown",
   "metadata": {},
   "source": [
    "### Results\n",
    "\n",
    "Based on the data for the two campaigns presented above, comparing the types of submissions in campaign 1 with those in campaign 2, no evidence was found that  visits pages in campaign 2 were actually converted into sales (because the results don't show any transaction events or purchase confirmation), unlike campaign 1, wich presents transaction events."
   ]
  },
  {
   "cell_type": "markdown",
   "metadata": {},
   "source": [
    "### 6 - Estimate the impact of unavailable products¶\n",
    "\n",
    "Bonus points if you consider cross-elasticity\n",
    "\n",
    "(don't fret too much. deliver something, no model is ever going to be perfect anyway)"
   ]
  },
  {
   "cell_type": "markdown",
   "metadata": {},
   "source": [
    "\n",
    "To answer this question, I initially selected all products marked as 'unavailable' and entered\n",
    "into a list so that I could get their IDs.\n",
    "\n",
    "Then I looked in 'orderItems' for all items sold that have the same product ID as the 'unavailable'\n",
    "list, so that I could estimate the financial impact.\n",
    "\n",
    "Lastly, I felt free to select sales over a period of a week (choosing between 2017-06-01 and \n",
    "2017-06-07), so that I could have a sense of the approximate financial impact per week and per day."
   ]
  },
  {
   "cell_type": "code",
   "execution_count": 62,
   "metadata": {},
   "outputs": [],
   "source": [
    "# Initializing lists and products dict\n",
    "\n",
    "products = {}\n",
    "products_unavailable = []\n",
    "transactions = []\n",
    "total = 0\n",
    "\n",
    "# Checking if event type is equal transaction and appending to 'transaction' list\n",
    "for d in data:\n",
    "    page_type = d['pageType']\n",
    "    event_type = d['eventType']\n",
    "    if event_type == 'transaction':\n",
    "        transactions.append(d)\n",
    "        continue\n",
    "\n",
    "    #Counting if the event_type is equal product\n",
    "    if event_type == 'product':\n",
    "        total += 1\n",
    "        # Verifying if the product already exists on the \"database\"\n",
    "        if d['product'] not in products.keys():\n",
    "            if d['status'] == 'UNAVAILABLE':\n",
    "                products[d['product']] = d['price']\n",
    "                products_unavailable.append(d['product'])"
   ]
  },
  {
   "cell_type": "code",
   "execution_count": 63,
   "metadata": {},
   "outputs": [],
   "source": [
    "#Initializing total value and unavailable transactions list\n",
    "\n",
    "total_value = 0\n",
    "unavailable_transactions = []\n",
    "\n",
    "#For any transaction on 'transactions', intialize the total value and create transaction products list\n",
    "for t in transactions:\n",
    "    subtotal = 0\n",
    "    t_products = []\n",
    "    \n",
    "    '''In section below, for any product in orderItems list, if the product is in unavailable products \n",
    "    list, the product price and total value of the product (being the subtotal * quantity) are incresaed\n",
    "    in the variables 'total_value' and 'subtotal', and the product is added to 't_products' list '''\n",
    "    \n",
    "    for product in t['orderItems']:\n",
    "        if product['product'] in products_unavailable:\n",
    "            total_value += product['price']\n",
    "            subtotal += product['price'] * product['quantity']\n",
    "            t_products.append(product)\n",
    "    \n",
    "    # If the 't_products' list had at least one item, add items to 'unavailable_transactions' list\n",
    "    if t_products:\n",
    "        unavailable_transactions.append({\n",
    "            'date': t['date'],\n",
    "            'subtotal': subtotal\n",
    "        })\n",
    "\n",
    "# Convert the date of 'unavailable_transactions' list from string to datetime\n",
    "df = pd.read_json(json.dumps(unavailable_transactions, indent=4))\n",
    "df['date'] = pd.to_datetime(df['date'])"
   ]
  },
  {
   "cell_type": "code",
   "execution_count": 67,
   "metadata": {},
   "outputs": [],
   "source": [
    "# Select the datetime between 2017-06-01 and 2017-06-07\n",
    "mask = (df['date'] > '2017-06-01') & (df['date'] <= '2017-06-07')\n",
    "\n",
    "# Sum the total value of the week (using the week datetime) to know the financial impact in one week\n",
    "total_week = df.loc[mask]['subtotal'].sum()\n",
    "\n",
    "# Divides the week value by 7 to know the financial impact per day\n",
    "daily_average = total_week / 7"
   ]
  },
  {
   "cell_type": "markdown",
   "metadata": {},
   "source": [
    "### Results Analysis\n",
    "\n",
    "According to the temporality chosen, as a result, products marked as 'unavailable' have a financial\n",
    "impact of approximately: "
   ]
  },
  {
   "cell_type": "code",
   "execution_count": 68,
   "metadata": {},
   "outputs": [
    {
     "name": "stdout",
     "output_type": "stream",
     "text": [
      "Per week: R$ 10846.88 | Daily average: R$ 1549.55\n"
     ]
    }
   ],
   "source": [
    "# Print the results\n",
    "print(f'Per week: R$ {total_week:.2f} | Daily average: R$ {daily_average:.2f}')"
   ]
  },
  {
   "cell_type": "code",
   "execution_count": null,
   "metadata": {},
   "outputs": [],
   "source": []
  }
 ],
 "metadata": {
  "kernelspec": {
   "display_name": "Python 3",
   "language": "python",
   "name": "python3"
  },
  "language_info": {
   "codemirror_mode": {
    "name": "ipython",
    "version": 3
   },
   "file_extension": ".py",
   "mimetype": "text/x-python",
   "name": "python",
   "nbconvert_exporter": "python",
   "pygments_lexer": "ipython3",
   "version": "3.6.6"
  }
 },
 "nbformat": 4,
 "nbformat_minor": 2
}
