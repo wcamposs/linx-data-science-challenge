{
 "cells": [
  {
   "cell_type": "code",
   "execution_count": 1,
   "metadata": {},
   "outputs": [],
   "source": [
    "transaction = {\n",
    "    'eventType': 'transaction',\n",
    "    'date': '2017-06-01 17:30:54',\n",
    "    'visitor': '84cc0d00-462c-11e7-93a0-39eac0558d08',\n",
    "    'deviceType': 'desktop',\n",
    "    'osType': 'Windows',\n",
    "    'osVersion': None,\n",
    "    'browserType': 'Firefox',\n",
    "    'browserVersion': '53.0.0',\n",
    "    'referrerType': None,\n",
    "    'utm_source': None,\n",
    "    'utm_medium': None,\n",
    "    'utm_campaign': None,\n",
    "    'pageType': 'confirmation',\n",
    "    'category': None,\n",
    "    'url': 'da7caa77e2729e12b32a9d7d1a324652ce2264a6',\n",
    "    'referrer': '6e03ee62984224d0c0f08d4b68b819297d7f4d14',\n",
    "    'order': 5545,        # unique transaction id\n",
    "    # list of products bought in that transaction\n",
    "    'orderItems': [\n",
    "        {'product': 16493, 'price': 19.9, 'quantity': 1.0},\n",
    "        {'product': 1432, 'price': 20.9, 'quantity': 1.0},\n",
    "        {'product': 4621, 'price': 395.01, 'quantity': 1.0}\n",
    "    ]\n",
    "}"
   ]
  },
  {
   "cell_type": "code",
   "execution_count": 3,
   "metadata": {},
   "outputs": [],
   "source": [
    "search = {\n",
    "    'eventType': 'search',\n",
    "    'date': '2017-06-03 09:02:06',\n",
    "    'visitor': '0eccdd90-477d-11e6-b479-450984b9b0b7',\n",
    "    'deviceType': 'desktop',\n",
    "    'osType': 'Windows',\n",
    "    'osVersion': None,\n",
    "    'browserType': 'Chrome',\n",
    "    'browserVersion': '51.0.2683',\n",
    "    'referrerType': None,\n",
    "    'utm_source': None,\n",
    "    'utm_medium': None,\n",
    "    'utm_campaign': None,\n",
    "    'pageType': 'search',\n",
    "    'category': None,\n",
    "    'url': '95a9fe3739eef4f7f38c6c0644e319ba77a1349a',\n",
    "    'referrer': '5c808dff012fcbe74dc2941a7664e357db367176',\n",
    "    'query': 'papel ou casa ventosa',      # obfuscated search query\n",
    "    'searchItems': [6077,15749,3398,8007,  # products returned as a result of that query\n",
    "                    18741,832,19311,12891, # respecting the order they were shown\n",
    "                    3264,16885,20613,156,\n",
    "                    11030,16204,2247,127,\n",
    "                    17178,6166,268,1851,\n",
    "                    2521,20810,16551,18626]\n",
    "}\n"
   ]
  },
  {
   "cell_type": "code",
   "execution_count": 4,
   "metadata": {},
   "outputs": [],
   "source": [
    "product = {\n",
    "    'eventType': 'product',\n",
    "    'date': '2017-06-01 13:35:13',\n",
    "    'visitor': '4806c650-46e8-11e7-8604-956bce5b488e',\n",
    "    'deviceType': 'desktop',\n",
    "    'osType': 'Windows',\n",
    "    'osVersion': '7',\n",
    "    'browserType': 'Chrome',\n",
    "    'browserVersion': '58.0.3029',\n",
    "    'referrerType': 'direct',\n",
    "    'utm_source': 'Partner_4',\n",
    "    'utm_medium': 'Medium_3',\n",
    "    'utm_campaign': 'Campaign_3',\n",
    "    'pageType': 'product',\n",
    "    'category': '558|727',\n",
    "    'url': '9a1cbff5cbff8666be513efeee781a71ff556f5f',\n",
    "    'referrer': None,\n",
    "    'product': 5639,               # product unique id\n",
    "    'tags': ['216', '695', '944'], # tag codes associated with that product\n",
    "    'price': 24.9,                 # product value\n",
    "    'status': 'AVAILABLE'          # AVAILABLE, UNAVAILABLE or REMOVED\n",
    "}"
   ]
  },
  {
   "cell_type": "code",
   "execution_count": 5,
   "metadata": {},
   "outputs": [],
   "source": [
    "page = {\n",
    "    'eventType': 'page',            # identifies the type of event\n",
    "    'date': '2017-06-03 18:20:53',  # timestamp of event generation\n",
    "    'visitor': '4ce48a50-f688-11e6-aed6-b52bfa51fc22', # visitor persistent and unique id\n",
    "    'deviceType': 'mobile',         # either desktop or mobile\n",
    "    'osType': 'Android',            # operating system extracted from user-agent\n",
    "    'osVersion': '6.0',             # operating system version\n",
    "    'browserType': 'Chrome Mobile', # browser\n",
    "    'browserVersion': '58.0.3029',  # browser version\n",
    "    'referrerType': 'search',       # search (Google)| social (Facebook)| other| direct (no referrer)\n",
    "    'utm_source': 'Partner_9',      # redacted acquisition channel partner\n",
    "    'utm_medium': 'Medium_7',       # redacted acquisition medium (normally email or ads)\n",
    "    'utm_campaign': 'Campaign_17',  # redacted acquisition campaign (like cart abandonment email)\n",
    "    'pageType': 'subcategory',      # useful to build a conversion funnel\n",
    "    'category': '319|689',          # hierarchical product category (689 is inside 319)\n",
    "    'url': '7806427dfc116ddbbcb37095a477330851b0afe9',     # hashed URL\n",
    "    'referrer': '18691404689e091548a691bf31b9995e8e7b9fcd' # hashed referrer\n",
    "}"
   ]
  },
  {
   "cell_type": "code",
   "execution_count": null,
   "metadata": {},
   "outputs": [],
   "source": []
  }
 ],
 "metadata": {
  "kernelspec": {
   "display_name": "Python 3",
   "language": "python",
   "name": "python3"
  },
  "language_info": {
   "codemirror_mode": {
    "name": "ipython",
    "version": 3
   },
   "file_extension": ".py",
   "mimetype": "text/x-python",
   "name": "python",
   "nbconvert_exporter": "python",
   "pygments_lexer": "ipython3",
   "version": "3.6.6"
  }
 },
 "nbformat": 4,
 "nbformat_minor": 2
}
